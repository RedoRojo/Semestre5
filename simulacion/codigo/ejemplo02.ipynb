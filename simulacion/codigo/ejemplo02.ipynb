{
 "cells": [
  {
   "cell_type": "code",
   "execution_count": 1,
   "metadata": {},
   "outputs": [],
   "source": [
    "import numpy\n",
    "import matplotlib.pyplot as pl"
   ]
  },
  {
   "cell_type": "code",
   "execution_count": 3,
   "metadata": {},
   "outputs": [],
   "source": [
    "def get_euler(t0, tf, presente, direccion, intervalo, *args):\n",
    "    futuros = []\n",
    "    tiempos = []\n",
    "    \n",
    "    while True:\n",
    "        if (t0 + intervalo) > tf:\n",
    "            intervalo = tf - t0\n",
    "        futuros.append(presente)\n",
    "        tiempos.append(t0)\n",
    "        pendiente = direccion(t0, presente, *args)\n",
    "        presente += pendiente * intervalo\n",
    "        t0 += intervalo\n",
    "        \n",
    "        if t0 >= tf:\n",
    "            break\n",
    "    futuros = numpy.array(futuros)\n",
    "    tiempos = numpy.array(tiempos)\n",
    "\n",
    "    return futuros, tiempos"
   ]
  },
  {
   "cell_type": "code",
   "execution_count": 4,
   "metadata": {},
   "outputs": [],
   "source": [
    "def get_velocidad(t, v, k, m, g):\n",
    "    dvdt = g - k / m * v\n",
    "    return dvdt"
   ]
  },
  {
   "cell_type": "code",
   "execution_count": 9,
   "metadata": {},
   "outputs": [],
   "source": [
    "Y, t = get_euler(0, 120, 0, get_velocidad, 0.01, 12.5, 68, 9.81)"
   ]
  },
  {
   "cell_type": "code",
   "execution_count": 10,
   "metadata": {},
   "outputs": [
    {
     "data": {
      "text/plain": [
       "array([ 0.        ,  0.0981    ,  0.19601967, ..., 53.36639999,\n",
       "       53.36639999, 53.36639999])"
      ]
     },
     "execution_count": 10,
     "metadata": {},
     "output_type": "execute_result"
    }
   ],
   "source": [
    "Y"
   ]
  },
  {
   "cell_type": "code",
   "execution_count": 11,
   "metadata": {},
   "outputs": [
    {
     "data": {
      "text/plain": [
       "Text(0, 0.5, 'tiempo')"
      ]
     },
     "execution_count": 11,
     "metadata": {},
     "output_type": "execute_result"
    },
    {
     "data": {
      "image/png": "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\n",
      "text/plain": [
       "<Figure size 432x288 with 1 Axes>"
      ]
     },
     "metadata": {
      "needs_background": "light"
     },
     "output_type": "display_data"
    }
   ],
   "source": [
    "pl.plot(t, Y)\n",
    "pl.grid()\n",
    "pl.xlabel(\"velocidad\")\n",
    "pl.ylabel(\"tiempo\")"
   ]
  },
  {
   "cell_type": "code",
   "execution_count": 12,
   "metadata": {},
   "outputs": [],
   "source": [
    "def get_poblacion(t, p, N, k):\n",
    "    dpdt = k * p * (1 - p / N)\n",
    "    return dpdt"
   ]
  },
  {
   "cell_type": "code",
   "execution_count": 19,
   "metadata": {},
   "outputs": [],
   "source": [
    "P, t = get_euler(0, 20, 800, get_poblacion, 0.01, 2500, 0.3)\n"
   ]
  },
  {
   "cell_type": "code",
   "execution_count": 20,
   "metadata": {},
   "outputs": [
    {
     "data": {
      "text/plain": [
       "Text(0, 0.5, 'Poblacion de Peces')"
      ]
     },
     "execution_count": 20,
     "metadata": {},
     "output_type": "execute_result"
    },
    {
     "data": {
      "image/png": "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\n",
      "text/plain": [
       "<Figure size 432x288 with 1 Axes>"
      ]
     },
     "metadata": {
      "needs_background": "light"
     },
     "output_type": "display_data"
    }
   ],
   "source": [
    "pl.plot(t, P)\n",
    "pl.grid()\n",
    "pl.xlabel(\"Tiempo\")\n",
    "pl.ylabel(\"Poblacion de Peces\")"
   ]
  },
  {
   "cell_type": "code",
   "execution_count": 22,
   "metadata": {},
   "outputs": [],
   "source": [
    "def get_conejo_zorro(t, ci, a, b, c, d):\n",
    "    dCdt = a * ci[0] - b * ci[0] * ci[1]\n",
    "    dZdt = -c * ci[1] + d * ci[0] * ci[1]\n",
    "    return numpy.array([dCdt, dZdt])"
   ]
  },
  {
   "cell_type": "code",
   "execution_count": null,
   "metadata": {},
   "outputs": [],
   "source": [
    "a = 2\n",
    "b = 1.2\n",
    "c = 1\n",
    "d = 0.9\n",
    "\n",
    "ci = numpy.array([1, 0.5])\n"
   ]
  }
 ],
 "metadata": {
  "kernelspec": {
   "display_name": "Python 3",
   "language": "python",
   "name": "python3"
  },
  "language_info": {
   "codemirror_mode": {
    "name": "ipython",
    "version": 3
   },
   "file_extension": ".py",
   "mimetype": "text/x-python",
   "name": "python",
   "nbconvert_exporter": "python",
   "pygments_lexer": "ipython3",
   "version": "3.8.10"
  }
 },
 "nbformat": 4,
 "nbformat_minor": 4
}
    "hash": "e7370f93d1d0cde622a1f8e1c04877d8463912d04d973331ad4851f04de6915a"
   }
  }
 },
 "nbformat": 4,
 "nbformat_minor": 4
}
