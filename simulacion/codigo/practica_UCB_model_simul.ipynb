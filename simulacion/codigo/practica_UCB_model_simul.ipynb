{
 "cells": [
  {
   "cell_type": "markdown",
   "metadata": {},
   "source": [
    "## <font color='blue'> 1. Modelo y simulación del crecimiento de colesterol en el cuerpo</font>\n",
    "\n",
    "\n",
    "Eres parte de un equipo encargado de analizar el comportamiento del colesterol. En tu equipo se encuentra un nutricionista que no  informa sobre los niveles de colesterol en la sangre, basado en el hecho de que el colesterol es fabricado por el cuerpo para usarse en la construcción de paredes celulares y es absorbido de alimentos que lo contienen. Identificas como variable $C_{(t)}$ la cantidad de colesterol en la sangre de una persona particular en el tiempo $t$ (en miligramos por decilitro). Además identificas los parámetros $C_N$ como el nivel natural de colesterol en la persona, $k_1$ el parámetro de producción, $E$ la razón diaria a la que se ingiere colesterol, y $k_2$ parámetro de absorción. el nutricionista, a aprtir de la observación conjetura y nos indica que la velocidad de crecimiento del colesterol es igual a la diferencia del colesterol natural y el colesterol en un momento dado, multiplicado por el parametro de producción, mas la razón diaria a la que se ingiere el colesterol por el parámetro de absorción. \n",
    "\n",
    "Para un experimento, se tiene que $C_N = 200$, $k_1= 0.1$, $k_2 = 0.1$, $E = 400$ y $C_{(0)} = 150$. \n",
    "\n",
    "a) ¿Cuál será el nivel de colesterol de la persona después de 2 días con esta dieta?\n",
    "\n",
    "b) Con las condiciones iniciales anteriores, ¿cuál será el nivel de colesterol en la per­\n",
    "sona después de 5 días con esta dieta?\n",
    "\n",
    "c) ¿Cuál será el nivel de colesterol en la persona después de un tiempo muy largo\n",
    "con esta dieta?\n",
    "\n",
    "d) Se sabe que los niveles muy altos de colesterol en la sangre son un factor de riesgo para las enfermedades del corazón. Suponga que, después de un tiempo largo con la dieta alta en dicho esteroide descrita antes, la persona recibe una dieta muy baja en colesterol, de manera que $E$ cambia a $E = 100$. (El nivel inicial de colesterol en el tiempo inicial de esta dieta es el resultado obtenido en el inciso (c). ¿Cuál será el nivel de colesterol en la persona después de 1 día, después de 5 días y después de un tiempo muy largo con la nueva dieta?\n",
    "\n",
    "e) Suponga que la persona se queda con la dieta alta en colesterol, pero toma medicamentos que bloquean parte de la absorción de dicha sustancia ingerida con los alimentos, por lo que $k_2$ cambia a $k_2 = 0.075$. Con el nivel de colesterol del inciso(c), ¿cuál será la proporción del esteroide en la sangre de esta persona después de 1 día, de 5 días y después de un tiempo muy largo?\n",
    "\n"
   ]
  },
  {
   "cell_type": "code",
   "execution_count": null,
   "metadata": {},
   "outputs": [],
   "source": []
  },
  {
   "cell_type": "markdown",
   "metadata": {},
   "source": [
    "# <font color='blue'>2. Modelo de propagación de publicidad</font>\n",
    "\n",
    "Una empresa tiene un nuevo producto de cereales y se introduce al mercado a través de unas campañas de publicidad en una población de 1 millón de personas (clientes potenciales). Los expertos en ing.comercial hace el supuesto de que la  velocidad con la que la población objetiva se entera del producto, es proporcional al número de personas que aún no son conscientes del producto. Al  final  de  un  año,  la  mitad  de  la  población  ha  oído  del  producto  en  cuestión.  Te piden un modelo y la simulación para estimar cuantas personas se enterarán del pruducto en un determinado tiempo."
   ]
  },
  {
   "cell_type": "code",
   "execution_count": null,
   "metadata": {},
   "outputs": [],
   "source": []
  },
  {
   "cell_type": "code",
   "execution_count": null,
   "metadata": {},
   "outputs": [],
   "source": []
  },
  {
   "cell_type": "markdown",
   "metadata": {},
   "source": [
    "# <font color='blue'>3. Modelo de cambio de temperatura</font>\n",
    "\n",
    "La carne de cerdo es muy apreciada en Cochabamba, los mas importante es la exigencia de la buena calidad desde el punto de visa de la salud del consumidor, ya que la calidad de la carne depende del buen procesamiento microbiológico de la misma, lo cual indica que un bajo contenido de microorganizmos provoca el deterioro de la carne, lo cual podemos evitar usando adecuadas condiciones de temepratura durante la obtención y le troceado de la carne.\n",
    "\n",
    "Nos piden modelar y simular el cambio de la temepratura de la carne al transcurrir el tiempo, es decir la variable dependiente es la temperatura $T$. Nos dicen que vamos a suponer que la temperatura ambiente no cambia en la observación. El supuesto que nos manifiestan es que la razón de enfriamiento de la carne es proporcional a la diferencia entre la temperatura en curso y la temperatura ambiente.\n",
    "\n",
    "En el proceso de la observación de la carne, inicia en el sacrificio del cerdo, momento en le cual su temperatura aproximada en promedio es de 47°C, posteriormente la carne, en contacto con el ambiente (aprox. 2°C), ya que es trasladado a un cuarto frigorifico, donde se procederá a deshuesarlo, es preciso que la temperatura de la carne llegue a 7°C para que la calidad de la carne sea satisfactori. Luego de ello, ya en torzos se espera que llegue a la temperatura de 2°C. Según anteriores mediciones, nos indican que la constante de proporcionalidad del cambio de temperatura es de $k=-0.10116$.   "
   ]
  },
  {
   "cell_type": "code",
   "execution_count": null,
   "metadata": {},
   "outputs": [],
   "source": []
  }
 ],
 "metadata": {
  "kernelspec": {
   "display_name": "Python 3.10.8 64-bit",
   "language": "python",
   "name": "python3"
  },
  "language_info": {
   "codemirror_mode": {
    "name": "ipython",
    "version": 3
   },
   "file_extension": ".py",
   "mimetype": "text/x-python",
   "name": "python",
   "nbconvert_exporter": "python",
   "pygments_lexer": "ipython3",
   "version": "3.10.8"
  },
  "vscode": {
   "interpreter": {
    "hash": "e7370f93d1d0cde622a1f8e1c04877d8463912d04d973331ad4851f04de6915a"
   }
  }
 },
 "nbformat": 4,
 "nbformat_minor": 4
}
