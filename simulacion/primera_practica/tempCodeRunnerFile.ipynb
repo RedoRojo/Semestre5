
def escala_verdes(fila, columna):
    satelital[fila][columna] = [0, satelital[fila][columna][1], 0]